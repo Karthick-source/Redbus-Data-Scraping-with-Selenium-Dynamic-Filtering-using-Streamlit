{
 "cells": [
  {
   "cell_type": "code",
   "execution_count": 7,
   "id": "050af144-ce8e-4a6f-a956-85af155d28b9",
   "metadata": {},
   "outputs": [],
   "source": [
    "#Importing libraries\n",
    "import pandas as pd\n",
    "import numpy as np\n",
    "import mysql.connector as db"
   ]
  },
  {
   "cell_type": "code",
   "execution_count": 62,
   "id": "56ca3817-09ab-4b4f-9739-6ad71cfa054d",
   "metadata": {},
   "outputs": [],
   "source": [
    "df_final = pd.read_csv(\"C:\\\\Users\\\\admin\\\\Desktop\\\\REDBUS_CSV\\\\df_states.csv\")"
   ]
  },
  {
   "cell_type": "code",
   "execution_count": 64,
   "id": "6ae4be56-8cff-4828-b3d9-13dc8b7e04c6",
   "metadata": {},
   "outputs": [
    {
     "data": {
      "text/html": [
       "<div>\n",
       "<style scoped>\n",
       "    .dataframe tbody tr th:only-of-type {\n",
       "        vertical-align: middle;\n",
       "    }\n",
       "\n",
       "    .dataframe tbody tr th {\n",
       "        vertical-align: top;\n",
       "    }\n",
       "\n",
       "    .dataframe thead th {\n",
       "        text-align: right;\n",
       "    }\n",
       "</style>\n",
       "<table border=\"1\" class=\"dataframe\">\n",
       "  <thead>\n",
       "    <tr style=\"text-align: right;\">\n",
       "      <th></th>\n",
       "      <th>Route_name</th>\n",
       "      <th>Bus_name</th>\n",
       "      <th>Bus_type</th>\n",
       "      <th>Duration</th>\n",
       "      <th>Ratings</th>\n",
       "      <th>Seats_Available</th>\n",
       "      <th>Price</th>\n",
       "      <th>Departing_time</th>\n",
       "      <th>Reaching_Time</th>\n",
       "      <th>Route_link</th>\n",
       "    </tr>\n",
       "  </thead>\n",
       "  <tbody>\n",
       "    <tr>\n",
       "      <th>0</th>\n",
       "      <td>Vijayawada to Hyderabad</td>\n",
       "      <td>TSRTC - 9934</td>\n",
       "      <td>SUPER LUXURY (NON-AC, 2 + 2 PUSH BACK)</td>\n",
       "      <td>07h 10m</td>\n",
       "      <td>3.9\\n10</td>\n",
       "      <td>33 Seats available</td>\n",
       "      <td>INR 396</td>\n",
       "      <td>10:10</td>\n",
       "      <td>17:20</td>\n",
       "      <td>https://www.redbus.in/bus-tickets/vijayawada-t...</td>\n",
       "    </tr>\n",
       "    <tr>\n",
       "      <th>1</th>\n",
       "      <td>Vijayawada to Hyderabad</td>\n",
       "      <td>TSRTC - 1892</td>\n",
       "      <td>RAJDHANI (A.C. Semi Sleeper)</td>\n",
       "      <td>05h 55m</td>\n",
       "      <td>2.5\\n27</td>\n",
       "      <td>25 Seats available</td>\n",
       "      <td>INR 480</td>\n",
       "      <td>10:20</td>\n",
       "      <td>16:15</td>\n",
       "      <td>https://www.redbus.in/bus-tickets/vijayawada-t...</td>\n",
       "    </tr>\n",
       "    <tr>\n",
       "      <th>2</th>\n",
       "      <td>Vijayawada to Hyderabad</td>\n",
       "      <td>TSRTC - 1464</td>\n",
       "      <td>RAJDHANI (A.C. Semi Sleeper)</td>\n",
       "      <td>06h 10m</td>\n",
       "      <td>2.1\\n24</td>\n",
       "      <td>28 Seats available</td>\n",
       "      <td>INR 480</td>\n",
       "      <td>10:40</td>\n",
       "      <td>16:50</td>\n",
       "      <td>https://www.redbus.in/bus-tickets/vijayawada-t...</td>\n",
       "    </tr>\n",
       "    <tr>\n",
       "      <th>3</th>\n",
       "      <td>Vijayawada to Hyderabad</td>\n",
       "      <td>TSRTC - 1805</td>\n",
       "      <td>RAJADHANI AC (CONVERTED METRO LUXURY)</td>\n",
       "      <td>05h 55m</td>\n",
       "      <td>3.0\\n12</td>\n",
       "      <td>27 Seats available</td>\n",
       "      <td>INR 480</td>\n",
       "      <td>11:45</td>\n",
       "      <td>17:40</td>\n",
       "      <td>https://www.redbus.in/bus-tickets/vijayawada-t...</td>\n",
       "    </tr>\n",
       "    <tr>\n",
       "      <th>4</th>\n",
       "      <td>Vijayawada to Hyderabad</td>\n",
       "      <td>TSRTC - 1582</td>\n",
       "      <td>RAJDHANI (A.C. Semi Sleeper)</td>\n",
       "      <td>04h 30m</td>\n",
       "      <td>3.1\\n33</td>\n",
       "      <td>27 Seats available</td>\n",
       "      <td>INR 480</td>\n",
       "      <td>12:10</td>\n",
       "      <td>16:40</td>\n",
       "      <td>https://www.redbus.in/bus-tickets/vijayawada-t...</td>\n",
       "    </tr>\n",
       "    <tr>\n",
       "      <th>...</th>\n",
       "      <td>...</td>\n",
       "      <td>...</td>\n",
       "      <td>...</td>\n",
       "      <td>...</td>\n",
       "      <td>...</td>\n",
       "      <td>...</td>\n",
       "      <td>...</td>\n",
       "      <td>...</td>\n",
       "      <td>...</td>\n",
       "      <td>...</td>\n",
       "    </tr>\n",
       "    <tr>\n",
       "      <th>3671</th>\n",
       "      <td>Kolkata to Siliguri</td>\n",
       "      <td>Lokenath Bus Service</td>\n",
       "      <td>Volvo 9600 Multi-Axle A/C Sleeper (2+1)</td>\n",
       "      <td>11h 40m</td>\n",
       "      <td>4.6\\n524</td>\n",
       "      <td>1 Seat available</td>\n",
       "      <td>INR 1500</td>\n",
       "      <td>19:50</td>\n",
       "      <td>07:30</td>\n",
       "      <td>https://www.redbus.in/bus-tickets/kolkata-to-s...</td>\n",
       "    </tr>\n",
       "    <tr>\n",
       "      <th>3672</th>\n",
       "      <td>Kolkata to Siliguri</td>\n",
       "      <td>Lokenath Bus Service</td>\n",
       "      <td>Volvo Multi Axle B11R AC Seater\\Sleeper (2+1)</td>\n",
       "      <td>09h 00m</td>\n",
       "      <td>4.4\\n495</td>\n",
       "      <td>6 Seats available</td>\n",
       "      <td>INR 1200</td>\n",
       "      <td>21:30</td>\n",
       "      <td>06:30</td>\n",
       "      <td>https://www.redbus.in/bus-tickets/kolkata-to-s...</td>\n",
       "    </tr>\n",
       "    <tr>\n",
       "      <th>3673</th>\n",
       "      <td>Kolkata to Siliguri</td>\n",
       "      <td>Modern Travels</td>\n",
       "      <td>Bharat Benz A/C Seater /Sleeper (2+1)</td>\n",
       "      <td>12h 00m</td>\n",
       "      <td>3.6\\n372</td>\n",
       "      <td>33 Seats available</td>\n",
       "      <td>INR 850</td>\n",
       "      <td>19:45</td>\n",
       "      <td>07:45</td>\n",
       "      <td>https://www.redbus.in/bus-tickets/kolkata-to-s...</td>\n",
       "    </tr>\n",
       "    <tr>\n",
       "      <th>3674</th>\n",
       "      <td>Kolkata to Asansol (West Bengal)</td>\n",
       "      <td>Royal Cruiser</td>\n",
       "      <td>Volvo A/C Seater (2+2)</td>\n",
       "      <td>04h 30m</td>\n",
       "      <td>3.5\\n67</td>\n",
       "      <td>3 Seats available</td>\n",
       "      <td>523</td>\n",
       "      <td>19:45</td>\n",
       "      <td>00:15</td>\n",
       "      <td>https://www.redbus.in/bus-tickets/kolkata-to-a...</td>\n",
       "    </tr>\n",
       "    <tr>\n",
       "      <th>3675</th>\n",
       "      <td>Kolkata to Asansol (West Bengal)</td>\n",
       "      <td>Beauty Travels</td>\n",
       "      <td>NON A/C Seater / Sleeper (2+2)</td>\n",
       "      <td>04h 10m</td>\n",
       "      <td>3.0</td>\n",
       "      <td>36 Seats available</td>\n",
       "      <td>INR 380</td>\n",
       "      <td>20:20</td>\n",
       "      <td>00:30</td>\n",
       "      <td>https://www.redbus.in/bus-tickets/kolkata-to-a...</td>\n",
       "    </tr>\n",
       "  </tbody>\n",
       "</table>\n",
       "<p>3676 rows × 10 columns</p>\n",
       "</div>"
      ],
      "text/plain": [
       "                            Route_name              Bus_name  \\\n",
       "0              Vijayawada to Hyderabad          TSRTC - 9934   \n",
       "1              Vijayawada to Hyderabad          TSRTC - 1892   \n",
       "2              Vijayawada to Hyderabad          TSRTC - 1464   \n",
       "3              Vijayawada to Hyderabad          TSRTC - 1805   \n",
       "4              Vijayawada to Hyderabad          TSRTC - 1582   \n",
       "...                                ...                   ...   \n",
       "3671               Kolkata to Siliguri  Lokenath Bus Service   \n",
       "3672               Kolkata to Siliguri  Lokenath Bus Service   \n",
       "3673               Kolkata to Siliguri        Modern Travels   \n",
       "3674  Kolkata to Asansol (West Bengal)         Royal Cruiser   \n",
       "3675  Kolkata to Asansol (West Bengal)        Beauty Travels   \n",
       "\n",
       "                                           Bus_type Duration   Ratings  \\\n",
       "0            SUPER LUXURY (NON-AC, 2 + 2 PUSH BACK)  07h 10m   3.9\\n10   \n",
       "1                      RAJDHANI (A.C. Semi Sleeper)  05h 55m   2.5\\n27   \n",
       "2                      RAJDHANI (A.C. Semi Sleeper)  06h 10m   2.1\\n24   \n",
       "3             RAJADHANI AC (CONVERTED METRO LUXURY)  05h 55m   3.0\\n12   \n",
       "4                      RAJDHANI (A.C. Semi Sleeper)  04h 30m   3.1\\n33   \n",
       "...                                             ...      ...       ...   \n",
       "3671        Volvo 9600 Multi-Axle A/C Sleeper (2+1)  11h 40m  4.6\\n524   \n",
       "3672  Volvo Multi Axle B11R AC Seater\\Sleeper (2+1)  09h 00m  4.4\\n495   \n",
       "3673          Bharat Benz A/C Seater /Sleeper (2+1)  12h 00m  3.6\\n372   \n",
       "3674                         Volvo A/C Seater (2+2)  04h 30m   3.5\\n67   \n",
       "3675                 NON A/C Seater / Sleeper (2+2)  04h 10m       3.0   \n",
       "\n",
       "         Seats_Available     Price Departing_time Reaching_Time  \\\n",
       "0     33 Seats available   INR 396          10:10         17:20   \n",
       "1     25 Seats available   INR 480          10:20         16:15   \n",
       "2     28 Seats available   INR 480          10:40         16:50   \n",
       "3     27 Seats available   INR 480          11:45         17:40   \n",
       "4     27 Seats available   INR 480          12:10         16:40   \n",
       "...                  ...       ...            ...           ...   \n",
       "3671    1 Seat available  INR 1500          19:50         07:30   \n",
       "3672   6 Seats available  INR 1200          21:30         06:30   \n",
       "3673  33 Seats available   INR 850          19:45         07:45   \n",
       "3674   3 Seats available       523          19:45         00:15   \n",
       "3675  36 Seats available   INR 380          20:20         00:30   \n",
       "\n",
       "                                             Route_link  \n",
       "0     https://www.redbus.in/bus-tickets/vijayawada-t...  \n",
       "1     https://www.redbus.in/bus-tickets/vijayawada-t...  \n",
       "2     https://www.redbus.in/bus-tickets/vijayawada-t...  \n",
       "3     https://www.redbus.in/bus-tickets/vijayawada-t...  \n",
       "4     https://www.redbus.in/bus-tickets/vijayawada-t...  \n",
       "...                                                 ...  \n",
       "3671  https://www.redbus.in/bus-tickets/kolkata-to-s...  \n",
       "3672  https://www.redbus.in/bus-tickets/kolkata-to-s...  \n",
       "3673  https://www.redbus.in/bus-tickets/kolkata-to-s...  \n",
       "3674  https://www.redbus.in/bus-tickets/kolkata-to-a...  \n",
       "3675  https://www.redbus.in/bus-tickets/kolkata-to-a...  \n",
       "\n",
       "[3676 rows x 10 columns]"
      ]
     },
     "execution_count": 64,
     "metadata": {},
     "output_type": "execute_result"
    }
   ],
   "source": [
    "df_final"
   ]
  },
  {
   "cell_type": "code",
   "execution_count": 34,
   "id": "49c323b4-ab63-4e69-a5c5-ac2b21e272e2",
   "metadata": {},
   "outputs": [
    {
     "name": "stdout",
     "output_type": "stream",
     "text": [
      "<class 'pandas.core.frame.DataFrame'>\n",
      "RangeIndex: 3676 entries, 0 to 3675\n",
      "Data columns (total 10 columns):\n",
      " #   Column           Non-Null Count  Dtype  \n",
      "---  ------           --------------  -----  \n",
      " 0   Route_name       3676 non-null   object \n",
      " 1   Bus_name         3657 non-null   object \n",
      " 2   Bus_type         3657 non-null   object \n",
      " 3   Duration         3657 non-null   object \n",
      " 4   Ratings          1135 non-null   float64\n",
      " 5   Seats_Available  3657 non-null   object \n",
      " 6   Price            3657 non-null   object \n",
      " 7   Departing_time   3657 non-null   object \n",
      " 8   Reaching_Time    3657 non-null   object \n",
      " 9   Route_link       3676 non-null   object \n",
      "dtypes: float64(1), object(9)\n",
      "memory usage: 287.3+ KB\n"
     ]
    }
   ],
   "source": [
    "df_final.info()"
   ]
  },
  {
   "cell_type": "code",
   "execution_count": 13,
   "id": "202fbd1c-eb3e-489d-9034-d1c70b51ca65",
   "metadata": {},
   "outputs": [],
   "source": [
    "# Convert prices to numeric\n",
    "df_final[\"Price\"]=df_final[\"Price\"].str.replace(\"INR\",\"\")"
   ]
  },
  {
   "cell_type": "code",
   "execution_count": 15,
   "id": "4530e02c-0d79-466f-acbe-30d998a726f4",
   "metadata": {},
   "outputs": [],
   "source": [
    "df_final[\"Price\"]=df_final[\"Price\"].astype(float)\n"
   ]
  },
  {
   "cell_type": "code",
   "execution_count": 17,
   "id": "317dd112-9d8a-43b4-8438-eab122bbc2d6",
   "metadata": {},
   "outputs": [
    {
     "data": {
      "text/plain": [
       "0        396.0\n",
       "1        480.0\n",
       "2        480.0\n",
       "3        480.0\n",
       "4        480.0\n",
       "         ...  \n",
       "3671    1500.0\n",
       "3672    1200.0\n",
       "3673     850.0\n",
       "3674     523.0\n",
       "3675     380.0\n",
       "Name: Price, Length: 3676, dtype: float64"
      ]
     },
     "execution_count": 17,
     "metadata": {},
     "output_type": "execute_result"
    }
   ],
   "source": [
    "df_final[\"Price\"].fillna(0)"
   ]
  },
  {
   "cell_type": "code",
   "execution_count": 52,
   "id": "36b7b05d-3287-47b6-a755-ee68a576fa7b",
   "metadata": {},
   "outputs": [],
   "source": [
    "df_final[\"Ratings\"] = df_final[\"Ratings\"].astype(str)"
   ]
  },
  {
   "cell_type": "code",
   "execution_count": 54,
   "id": "2f84d5b7-d542-4f6d-aac7-20e78c92d857",
   "metadata": {},
   "outputs": [],
   "source": [
    "# Convert Ratings to numeric\n",
    "df_final[\"Ratings\"]=df_final[\"Ratings\"].str.replace(\"New\",\"\")"
   ]
  },
  {
   "cell_type": "code",
   "execution_count": 56,
   "id": "6243e525-25bb-43c1-972f-f19ab4e5c21c",
   "metadata": {},
   "outputs": [],
   "source": [
    "df_final[\"Ratings\"]=df_final[\"Ratings\"].str.split().str[0]\n"
   ]
  },
  {
   "cell_type": "code",
   "execution_count": 58,
   "id": "880114fa-30b2-4197-93b0-3ffd23abfc60",
   "metadata": {},
   "outputs": [],
   "source": [
    "df_final[\"Ratings\"] = pd.to_numeric(df_final[\"Ratings\"], errors='coerce')"
   ]
  },
  {
   "cell_type": "code",
   "execution_count": 60,
   "id": "ac848c41-6dba-460f-9f66-167a830f41a5",
   "metadata": {},
   "outputs": [
    {
     "data": {
      "text/plain": [
       "0       3.9\n",
       "1       2.5\n",
       "2       2.1\n",
       "3       3.0\n",
       "4       3.1\n",
       "       ... \n",
       "3671    4.6\n",
       "3672    4.4\n",
       "3673    3.6\n",
       "3674    3.5\n",
       "3675    3.0\n",
       "Name: Ratings, Length: 3676, dtype: float64"
      ]
     },
     "execution_count": 60,
     "metadata": {},
     "output_type": "execute_result"
    }
   ],
   "source": [
    "df_final[\"Ratings\"].fillna(0) "
   ]
  },
  {
   "cell_type": "code",
   "execution_count": 31,
   "id": "7a1fd032-2012-452e-9425-d245ce8c5f43",
   "metadata": {},
   "outputs": [
    {
     "name": "stdout",
     "output_type": "stream",
     "text": [
      "<class 'pandas.core.frame.DataFrame'>\n",
      "RangeIndex: 3676 entries, 0 to 3675\n",
      "Data columns (total 10 columns):\n",
      " #   Column           Non-Null Count  Dtype  \n",
      "---  ------           --------------  -----  \n",
      " 0   Route_name       3676 non-null   object \n",
      " 1   Bus_name         3657 non-null   object \n",
      " 2   Bus_type         3657 non-null   object \n",
      " 3   Duration         3657 non-null   object \n",
      " 4   Ratings          3676 non-null   float64\n",
      " 5   Seats_Available  3657 non-null   object \n",
      " 6   Price            3657 non-null   float64\n",
      " 7   Departing_time   3657 non-null   object \n",
      " 8   Reaching_Time    3657 non-null   object \n",
      " 9   Route_link       3676 non-null   object \n",
      "dtypes: float64(2), object(8)\n",
      "memory usage: 287.3+ KB\n"
     ]
    }
   ],
   "source": [
    "df_final.info()\n"
   ]
  },
  {
   "cell_type": "code",
   "execution_count": 33,
   "id": "7371ef62-87b3-4c45-bdab-0f7a125eb319",
   "metadata": {},
   "outputs": [],
   "source": [
    "df_final = df_final.fillna(0)\n"
   ]
  },
  {
   "cell_type": "code",
   "execution_count": 35,
   "id": "e5f130a8-cd91-4cea-b380-4436cf3353e5",
   "metadata": {},
   "outputs": [],
   "source": [
    "# Replace all NaN (Not a Number) values with None\n",
    "df_final = df_final.replace({np.nan: None})"
   ]
  },
  {
   "cell_type": "code",
   "execution_count": 37,
   "id": "9a1c0e5f-bef8-4fea-bca6-ccda41bdde70",
   "metadata": {},
   "outputs": [],
   "source": [
    "df_final=df_final.to_csv(\"C:\\\\Users\\\\admin\\\\Desktop\\\\REDBUS_CSV\\\\df_redbus_list.csv\",index=False)"
   ]
  },
  {
   "cell_type": "code",
   "execution_count": 49,
   "id": "7e132ae0-cb34-4941-9a89-4af311c753ff",
   "metadata": {},
   "outputs": [],
   "source": [
    "df_final = pd.read_csv(\"df_redbus_list.csv\")"
   ]
  },
  {
   "cell_type": "code",
   "execution_count": null,
   "id": "8292fcaa-69f8-4c86-b3a2-6c38de3bd138",
   "metadata": {},
   "outputs": [],
   "source": []
  },
  {
   "cell_type": "code",
   "execution_count": 39,
   "id": "b45fc593-e344-4adb-a405-7cee04179d6c",
   "metadata": {},
   "outputs": [],
   "source": [
    "# Sql Connection\n",
    "db_connection=db.connect(\n",
    "\n",
    "    host= \"localhost\",\n",
    "    user=\"root\",\n",
    "    password=\"root\",\n",
    "    database=\"bus_routes\"\n",
    ")"
   ]
  },
  {
   "cell_type": "code",
   "execution_count": 41,
   "id": "f45a4c9f-20cf-42f4-98b8-8ead7085f12e",
   "metadata": {},
   "outputs": [
    {
     "data": {
      "text/plain": [
       "<mysql.connector.connection_cext.CMySQLConnection at 0x286c10273b0>"
      ]
     },
     "execution_count": 41,
     "metadata": {},
     "output_type": "execute_result"
    }
   ],
   "source": [
    "db_connection"
   ]
  },
  {
   "cell_type": "code",
   "execution_count": 43,
   "id": "94f3c990-ec5a-4e34-858f-c490fd788909",
   "metadata": {},
   "outputs": [],
   "source": [
    "curr = db_connection.cursor()"
   ]
  },
  {
   "cell_type": "code",
   "execution_count": 45,
   "id": "f5b1c3d4-93f1-4a05-a123-9a10100b6e85",
   "metadata": {},
   "outputs": [],
   "source": [
    "# SQL query to insert data into bus_details table\n",
    "\n",
    "insert_db ='''INSERT INTO bus_routes.bus_details(\n",
    "                    Route_name,\n",
    "                    Bus_name,\n",
    "                    Bus_type,\n",
    "                    Duration,\n",
    "                    Ratings,\n",
    "                    Seats_Available,\n",
    "                    Price,\n",
    "                    Departing_time,\n",
    "                    Reaching_Time,\n",
    "                    Route_link\n",
    "                    )\n",
    "              VALUES(%s, %s, %s, %s, %s, %s, %s, %s, %s, %s)'''"
   ]
  },
  {
   "cell_type": "code",
   "execution_count": 51,
   "id": "76c2840a-03a6-42e5-9d57-7dd8e40bea0c",
   "metadata": {},
   "outputs": [],
   "source": [
    "#final_data = df_final.values.tolist()"
   ]
  },
  {
   "cell_type": "code",
   "execution_count": 59,
   "id": "d5efc2cd-04a7-42a2-8461-bac36c1ce11c",
   "metadata": {},
   "outputs": [],
   "source": [
    "# Convert Seats_Available to numeric\n",
    "df_final[\"Seats_Available\"] = df_final[\"Seats_Available\"].str.split().str[0]\n"
   ]
  },
  {
   "cell_type": "code",
   "execution_count": 61,
   "id": "2690e1a2-6e55-4363-8639-49f54804e1f6",
   "metadata": {},
   "outputs": [],
   "source": [
    "df_final[\"Seats_Available\"]=df_final[\"Seats_Available\"].astype(int)\n"
   ]
  },
  {
   "cell_type": "code",
   "execution_count": 65,
   "id": "b8104af2-f237-4351-9785-ca50934ac318",
   "metadata": {},
   "outputs": [],
   "source": [
    "df_final=df_final.to_csv(\"C:\\\\Users\\\\admin\\\\Desktop\\\\REDBUS_CSV\\\\df_redbus.csv\",index=False)"
   ]
  },
  {
   "cell_type": "code",
   "execution_count": 67,
   "id": "9ddc5df2-0a47-45de-b334-884414d7c8ed",
   "metadata": {},
   "outputs": [],
   "source": [
    "df_final = pd.read_csv(\"df_redbus.csv\")"
   ]
  },
  {
   "cell_type": "code",
   "execution_count": 69,
   "id": "1b6ef24a-7ab7-434d-b643-cdf8f7f9cdb3",
   "metadata": {},
   "outputs": [],
   "source": [
    "final_data = df_final.values.tolist()"
   ]
  },
  {
   "cell_type": "code",
   "execution_count": 71,
   "id": "3e14b3bb-baad-4518-9a49-78cc156c6dba",
   "metadata": {},
   "outputs": [],
   "source": [
    "curr.executemany(insert_db,final_data)"
   ]
  },
  {
   "cell_type": "code",
   "execution_count": 73,
   "id": "114b5c89-8ae4-43c9-93c5-edbd37c80f6a",
   "metadata": {},
   "outputs": [],
   "source": [
    "db_connection.commit()"
   ]
  },
  {
   "cell_type": "code",
   "execution_count": 77,
   "id": "746193e3-7a93-4031-86ba-a85ba8bfba56",
   "metadata": {},
   "outputs": [
    {
     "name": "stdout",
     "output_type": "stream",
     "text": [
      "successfully\n"
     ]
    }
   ],
   "source": [
    "print(\"successfully\")\n"
   ]
  },
  {
   "cell_type": "code",
   "execution_count": null,
   "id": "339a4b77-a8a1-44c7-946e-682fecf99b63",
   "metadata": {},
   "outputs": [],
   "source": []
  }
 ],
 "metadata": {
  "kernelspec": {
   "display_name": "Python 3 (ipykernel)",
   "language": "python",
   "name": "python3"
  },
  "language_info": {
   "codemirror_mode": {
    "name": "ipython",
    "version": 3
   },
   "file_extension": ".py",
   "mimetype": "text/x-python",
   "name": "python",
   "nbconvert_exporter": "python",
   "pygments_lexer": "ipython3",
   "version": "3.12.4"
  }
 },
 "nbformat": 4,
 "nbformat_minor": 5
}
