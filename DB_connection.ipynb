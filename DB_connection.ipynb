{
 "cells": [
  {
   "cell_type": "code",
   "execution_count": 1,
   "id": "050af144-ce8e-4a6f-a956-85af155d28b9",
   "metadata": {},
   "outputs": [],
   "source": [
    "#Importing libraries\n",
    "import pandas as pd\n",
    "import numpy as np\n",
    "import mysql.connector as db"
   ]
  },
  {
   "cell_type": "code",
   "execution_count": 3,
   "id": "56ca3817-09ab-4b4f-9739-6ad71cfa054d",
   "metadata": {},
   "outputs": [],
   "source": [
    "df_final = pd.read_csv(\"df_states.csv\")"
   ]
  },
  {
   "cell_type": "code",
   "execution_count": 5,
   "id": "6ae4be56-8cff-4828-b3d9-13dc8b7e04c6",
   "metadata": {},
   "outputs": [
    {
     "data": {
      "text/html": [
       "<div>\n",
       "<style scoped>\n",
       "    .dataframe tbody tr th:only-of-type {\n",
       "        vertical-align: middle;\n",
       "    }\n",
       "\n",
       "    .dataframe tbody tr th {\n",
       "        vertical-align: top;\n",
       "    }\n",
       "\n",
       "    .dataframe thead th {\n",
       "        text-align: right;\n",
       "    }\n",
       "</style>\n",
       "<table border=\"1\" class=\"dataframe\">\n",
       "  <thead>\n",
       "    <tr style=\"text-align: right;\">\n",
       "      <th></th>\n",
       "      <th>Route_name</th>\n",
       "      <th>Bus_name</th>\n",
       "      <th>Bus_type</th>\n",
       "      <th>Duration</th>\n",
       "      <th>Ratings</th>\n",
       "      <th>Seats_Available</th>\n",
       "      <th>Price</th>\n",
       "      <th>Departing_time</th>\n",
       "      <th>Reaching_Time</th>\n",
       "      <th>Route_link</th>\n",
       "    </tr>\n",
       "  </thead>\n",
       "  <tbody>\n",
       "    <tr>\n",
       "      <th>0</th>\n",
       "      <td>Vijayawada to Hyderabad</td>\n",
       "      <td>TSRTC - 9934</td>\n",
       "      <td>SUPER LUXURY (NON-AC, 2 + 2 PUSH BACK)</td>\n",
       "      <td>07h 10m</td>\n",
       "      <td>3.9\\n10</td>\n",
       "      <td>33 Seats available</td>\n",
       "      <td>INR 396</td>\n",
       "      <td>10:10</td>\n",
       "      <td>17:20</td>\n",
       "      <td>https://www.redbus.in/bus-tickets/vijayawada-t...</td>\n",
       "    </tr>\n",
       "    <tr>\n",
       "      <th>1</th>\n",
       "      <td>Vijayawada to Hyderabad</td>\n",
       "      <td>TSRTC - 1892</td>\n",
       "      <td>RAJDHANI (A.C. Semi Sleeper)</td>\n",
       "      <td>05h 55m</td>\n",
       "      <td>2.5\\n27</td>\n",
       "      <td>25 Seats available</td>\n",
       "      <td>INR 480</td>\n",
       "      <td>10:20</td>\n",
       "      <td>16:15</td>\n",
       "      <td>https://www.redbus.in/bus-tickets/vijayawada-t...</td>\n",
       "    </tr>\n",
       "    <tr>\n",
       "      <th>2</th>\n",
       "      <td>Vijayawada to Hyderabad</td>\n",
       "      <td>TSRTC - 1464</td>\n",
       "      <td>RAJDHANI (A.C. Semi Sleeper)</td>\n",
       "      <td>06h 10m</td>\n",
       "      <td>2.1\\n24</td>\n",
       "      <td>28 Seats available</td>\n",
       "      <td>INR 480</td>\n",
       "      <td>10:40</td>\n",
       "      <td>16:50</td>\n",
       "      <td>https://www.redbus.in/bus-tickets/vijayawada-t...</td>\n",
       "    </tr>\n",
       "    <tr>\n",
       "      <th>3</th>\n",
       "      <td>Vijayawada to Hyderabad</td>\n",
       "      <td>TSRTC - 1805</td>\n",
       "      <td>RAJADHANI AC (CONVERTED METRO LUXURY)</td>\n",
       "      <td>05h 55m</td>\n",
       "      <td>3.0\\n12</td>\n",
       "      <td>27 Seats available</td>\n",
       "      <td>INR 480</td>\n",
       "      <td>11:45</td>\n",
       "      <td>17:40</td>\n",
       "      <td>https://www.redbus.in/bus-tickets/vijayawada-t...</td>\n",
       "    </tr>\n",
       "    <tr>\n",
       "      <th>4</th>\n",
       "      <td>Vijayawada to Hyderabad</td>\n",
       "      <td>TSRTC - 1582</td>\n",
       "      <td>RAJDHANI (A.C. Semi Sleeper)</td>\n",
       "      <td>04h 30m</td>\n",
       "      <td>3.1\\n33</td>\n",
       "      <td>27 Seats available</td>\n",
       "      <td>INR 480</td>\n",
       "      <td>12:10</td>\n",
       "      <td>16:40</td>\n",
       "      <td>https://www.redbus.in/bus-tickets/vijayawada-t...</td>\n",
       "    </tr>\n",
       "    <tr>\n",
       "      <th>...</th>\n",
       "      <td>...</td>\n",
       "      <td>...</td>\n",
       "      <td>...</td>\n",
       "      <td>...</td>\n",
       "      <td>...</td>\n",
       "      <td>...</td>\n",
       "      <td>...</td>\n",
       "      <td>...</td>\n",
       "      <td>...</td>\n",
       "      <td>...</td>\n",
       "    </tr>\n",
       "    <tr>\n",
       "      <th>3671</th>\n",
       "      <td>Kolkata to Siliguri</td>\n",
       "      <td>Lokenath Bus Service</td>\n",
       "      <td>Volvo 9600 Multi-Axle A/C Sleeper (2+1)</td>\n",
       "      <td>11h 40m</td>\n",
       "      <td>4.6\\n524</td>\n",
       "      <td>1 Seat available</td>\n",
       "      <td>INR 1500</td>\n",
       "      <td>19:50</td>\n",
       "      <td>07:30</td>\n",
       "      <td>https://www.redbus.in/bus-tickets/kolkata-to-s...</td>\n",
       "    </tr>\n",
       "    <tr>\n",
       "      <th>3672</th>\n",
       "      <td>Kolkata to Siliguri</td>\n",
       "      <td>Lokenath Bus Service</td>\n",
       "      <td>Volvo Multi Axle B11R AC Seater\\Sleeper (2+1)</td>\n",
       "      <td>09h 00m</td>\n",
       "      <td>4.4\\n495</td>\n",
       "      <td>6 Seats available</td>\n",
       "      <td>INR 1200</td>\n",
       "      <td>21:30</td>\n",
       "      <td>06:30</td>\n",
       "      <td>https://www.redbus.in/bus-tickets/kolkata-to-s...</td>\n",
       "    </tr>\n",
       "    <tr>\n",
       "      <th>3673</th>\n",
       "      <td>Kolkata to Siliguri</td>\n",
       "      <td>Modern Travels</td>\n",
       "      <td>Bharat Benz A/C Seater /Sleeper (2+1)</td>\n",
       "      <td>12h 00m</td>\n",
       "      <td>3.6\\n372</td>\n",
       "      <td>33 Seats available</td>\n",
       "      <td>INR 850</td>\n",
       "      <td>19:45</td>\n",
       "      <td>07:45</td>\n",
       "      <td>https://www.redbus.in/bus-tickets/kolkata-to-s...</td>\n",
       "    </tr>\n",
       "    <tr>\n",
       "      <th>3674</th>\n",
       "      <td>Kolkata to Asansol (West Bengal)</td>\n",
       "      <td>Royal Cruiser</td>\n",
       "      <td>Volvo A/C Seater (2+2)</td>\n",
       "      <td>04h 30m</td>\n",
       "      <td>3.5\\n67</td>\n",
       "      <td>3 Seats available</td>\n",
       "      <td>523</td>\n",
       "      <td>19:45</td>\n",
       "      <td>00:15</td>\n",
       "      <td>https://www.redbus.in/bus-tickets/kolkata-to-a...</td>\n",
       "    </tr>\n",
       "    <tr>\n",
       "      <th>3675</th>\n",
       "      <td>Kolkata to Asansol (West Bengal)</td>\n",
       "      <td>Beauty Travels</td>\n",
       "      <td>NON A/C Seater / Sleeper (2+2)</td>\n",
       "      <td>04h 10m</td>\n",
       "      <td>3.0</td>\n",
       "      <td>36 Seats available</td>\n",
       "      <td>INR 380</td>\n",
       "      <td>20:20</td>\n",
       "      <td>00:30</td>\n",
       "      <td>https://www.redbus.in/bus-tickets/kolkata-to-a...</td>\n",
       "    </tr>\n",
       "  </tbody>\n",
       "</table>\n",
       "<p>3676 rows × 10 columns</p>\n",
       "</div>"
      ],
      "text/plain": [
       "                            Route_name              Bus_name  \\\n",
       "0              Vijayawada to Hyderabad          TSRTC - 9934   \n",
       "1              Vijayawada to Hyderabad          TSRTC - 1892   \n",
       "2              Vijayawada to Hyderabad          TSRTC - 1464   \n",
       "3              Vijayawada to Hyderabad          TSRTC - 1805   \n",
       "4              Vijayawada to Hyderabad          TSRTC - 1582   \n",
       "...                                ...                   ...   \n",
       "3671               Kolkata to Siliguri  Lokenath Bus Service   \n",
       "3672               Kolkata to Siliguri  Lokenath Bus Service   \n",
       "3673               Kolkata to Siliguri        Modern Travels   \n",
       "3674  Kolkata to Asansol (West Bengal)         Royal Cruiser   \n",
       "3675  Kolkata to Asansol (West Bengal)        Beauty Travels   \n",
       "\n",
       "                                           Bus_type Duration   Ratings  \\\n",
       "0            SUPER LUXURY (NON-AC, 2 + 2 PUSH BACK)  07h 10m   3.9\\n10   \n",
       "1                      RAJDHANI (A.C. Semi Sleeper)  05h 55m   2.5\\n27   \n",
       "2                      RAJDHANI (A.C. Semi Sleeper)  06h 10m   2.1\\n24   \n",
       "3             RAJADHANI AC (CONVERTED METRO LUXURY)  05h 55m   3.0\\n12   \n",
       "4                      RAJDHANI (A.C. Semi Sleeper)  04h 30m   3.1\\n33   \n",
       "...                                             ...      ...       ...   \n",
       "3671        Volvo 9600 Multi-Axle A/C Sleeper (2+1)  11h 40m  4.6\\n524   \n",
       "3672  Volvo Multi Axle B11R AC Seater\\Sleeper (2+1)  09h 00m  4.4\\n495   \n",
       "3673          Bharat Benz A/C Seater /Sleeper (2+1)  12h 00m  3.6\\n372   \n",
       "3674                         Volvo A/C Seater (2+2)  04h 30m   3.5\\n67   \n",
       "3675                 NON A/C Seater / Sleeper (2+2)  04h 10m       3.0   \n",
       "\n",
       "         Seats_Available     Price Departing_time Reaching_Time  \\\n",
       "0     33 Seats available   INR 396          10:10         17:20   \n",
       "1     25 Seats available   INR 480          10:20         16:15   \n",
       "2     28 Seats available   INR 480          10:40         16:50   \n",
       "3     27 Seats available   INR 480          11:45         17:40   \n",
       "4     27 Seats available   INR 480          12:10         16:40   \n",
       "...                  ...       ...            ...           ...   \n",
       "3671    1 Seat available  INR 1500          19:50         07:30   \n",
       "3672   6 Seats available  INR 1200          21:30         06:30   \n",
       "3673  33 Seats available   INR 850          19:45         07:45   \n",
       "3674   3 Seats available       523          19:45         00:15   \n",
       "3675  36 Seats available   INR 380          20:20         00:30   \n",
       "\n",
       "                                             Route_link  \n",
       "0     https://www.redbus.in/bus-tickets/vijayawada-t...  \n",
       "1     https://www.redbus.in/bus-tickets/vijayawada-t...  \n",
       "2     https://www.redbus.in/bus-tickets/vijayawada-t...  \n",
       "3     https://www.redbus.in/bus-tickets/vijayawada-t...  \n",
       "4     https://www.redbus.in/bus-tickets/vijayawada-t...  \n",
       "...                                                 ...  \n",
       "3671  https://www.redbus.in/bus-tickets/kolkata-to-s...  \n",
       "3672  https://www.redbus.in/bus-tickets/kolkata-to-s...  \n",
       "3673  https://www.redbus.in/bus-tickets/kolkata-to-s...  \n",
       "3674  https://www.redbus.in/bus-tickets/kolkata-to-a...  \n",
       "3675  https://www.redbus.in/bus-tickets/kolkata-to-a...  \n",
       "\n",
       "[3676 rows x 10 columns]"
      ]
     },
     "execution_count": 5,
     "metadata": {},
     "output_type": "execute_result"
    }
   ],
   "source": [
    "df_final"
   ]
  },
  {
   "cell_type": "code",
   "execution_count": 11,
   "id": "49c323b4-ab63-4e69-a5c5-ac2b21e272e2",
   "metadata": {},
   "outputs": [
    {
     "name": "stdout",
     "output_type": "stream",
     "text": [
      "<class 'pandas.core.frame.DataFrame'>\n",
      "RangeIndex: 3676 entries, 0 to 3675\n",
      "Data columns (total 10 columns):\n",
      " #   Column           Non-Null Count  Dtype \n",
      "---  ------           --------------  ----- \n",
      " 0   Route_name       3676 non-null   object\n",
      " 1   Bus_name         3657 non-null   object\n",
      " 2   Bus_type         3657 non-null   object\n",
      " 3   Duration         3657 non-null   object\n",
      " 4   Ratings          3657 non-null   object\n",
      " 5   Seats_Available  3657 non-null   object\n",
      " 6   Price            3657 non-null   object\n",
      " 7   Departing_time   3657 non-null   object\n",
      " 8   Reaching_Time    3657 non-null   object\n",
      " 9   Route_link       3676 non-null   object\n",
      "dtypes: object(10)\n",
      "memory usage: 287.3+ KB\n"
     ]
    }
   ],
   "source": [
    "df_final.info()"
   ]
  },
  {
   "cell_type": "code",
   "execution_count": 13,
   "id": "202fbd1c-eb3e-489d-9034-d1c70b51ca65",
   "metadata": {},
   "outputs": [],
   "source": [
    "# Convert prices to numeric\n",
    "df_final[\"Price\"]=df_final[\"Price\"].str.replace(\"INR\",\"\")"
   ]
  },
  {
   "cell_type": "code",
   "execution_count": 15,
   "id": "4530e02c-0d79-466f-acbe-30d998a726f4",
   "metadata": {},
   "outputs": [],
   "source": [
    "df_final[\"Price\"]=df_final[\"Price\"].astype(float)\n"
   ]
  },
  {
   "cell_type": "code",
   "execution_count": 17,
   "id": "317dd112-9d8a-43b4-8438-eab122bbc2d6",
   "metadata": {},
   "outputs": [
    {
     "data": {
      "text/plain": [
       "0        396.0\n",
       "1        480.0\n",
       "2        480.0\n",
       "3        480.0\n",
       "4        480.0\n",
       "         ...  \n",
       "3671    1500.0\n",
       "3672    1200.0\n",
       "3673     850.0\n",
       "3674     523.0\n",
       "3675     380.0\n",
       "Name: Price, Length: 3676, dtype: float64"
      ]
     },
     "execution_count": 17,
     "metadata": {},
     "output_type": "execute_result"
    }
   ],
   "source": [
    "df_final[\"Price\"].fillna(0)"
   ]
  },
  {
   "cell_type": "code",
   "execution_count": 19,
   "id": "2f84d5b7-d542-4f6d-aac7-20e78c92d857",
   "metadata": {},
   "outputs": [],
   "source": [
    "# Convert Ratings to numeric\n",
    "df_final[\"Ratings\"]=df_final[\"Ratings\"].str.replace(\"New\",\"\")"
   ]
  },
  {
   "cell_type": "code",
   "execution_count": 21,
   "id": "6243e525-25bb-43c1-972f-f19ab4e5c21c",
   "metadata": {},
   "outputs": [],
   "source": [
    "df_final[\"Ratings\"]=df_final[\"Ratings\"].str.split().str[0]\n"
   ]
  },
  {
   "cell_type": "code",
   "execution_count": 23,
   "id": "880114fa-30b2-4197-93b0-3ffd23abfc60",
   "metadata": {},
   "outputs": [],
   "source": [
    "df_final[\"Ratings\"] = pd.to_numeric(df_final[\"Ratings\"], errors='coerce')\n"
   ]
  },
  {
   "cell_type": "code",
   "execution_count": 25,
   "id": "ac848c41-6dba-460f-9f66-167a830f41a5",
   "metadata": {},
   "outputs": [
    {
     "name": "stderr",
     "output_type": "stream",
     "text": [
      "C:\\Users\\admin\\AppData\\Local\\Temp\\ipykernel_2996\\4038621603.py:1: FutureWarning: A value is trying to be set on a copy of a DataFrame or Series through chained assignment using an inplace method.\n",
      "The behavior will change in pandas 3.0. This inplace method will never work because the intermediate object on which we are setting values always behaves as a copy.\n",
      "\n",
      "For example, when doing 'df[col].method(value, inplace=True)', try using 'df.method({col: value}, inplace=True)' or df[col] = df[col].method(value) instead, to perform the operation inplace on the original object.\n",
      "\n",
      "\n",
      "  df_final[\"Ratings\"].fillna(0,inplace=True)\n"
     ]
    }
   ],
   "source": [
    "df_final[\"Ratings\"].fillna(0,inplace=True) \n"
   ]
  },
  {
   "cell_type": "code",
   "execution_count": 31,
   "id": "7a1fd032-2012-452e-9425-d245ce8c5f43",
   "metadata": {},
   "outputs": [
    {
     "name": "stdout",
     "output_type": "stream",
     "text": [
      "<class 'pandas.core.frame.DataFrame'>\n",
      "RangeIndex: 3676 entries, 0 to 3675\n",
      "Data columns (total 10 columns):\n",
      " #   Column           Non-Null Count  Dtype  \n",
      "---  ------           --------------  -----  \n",
      " 0   Route_name       3676 non-null   object \n",
      " 1   Bus_name         3657 non-null   object \n",
      " 2   Bus_type         3657 non-null   object \n",
      " 3   Duration         3657 non-null   object \n",
      " 4   Ratings          3676 non-null   float64\n",
      " 5   Seats_Available  3657 non-null   object \n",
      " 6   Price            3657 non-null   float64\n",
      " 7   Departing_time   3657 non-null   object \n",
      " 8   Reaching_Time    3657 non-null   object \n",
      " 9   Route_link       3676 non-null   object \n",
      "dtypes: float64(2), object(8)\n",
      "memory usage: 287.3+ KB\n"
     ]
    }
   ],
   "source": [
    "df_final.info()\n"
   ]
  },
  {
   "cell_type": "code",
   "execution_count": 33,
   "id": "7371ef62-87b3-4c45-bdab-0f7a125eb319",
   "metadata": {},
   "outputs": [],
   "source": [
    "df_final = df_final.fillna(0)\n"
   ]
  },
  {
   "cell_type": "code",
   "execution_count": 35,
   "id": "e5f130a8-cd91-4cea-b380-4436cf3353e5",
   "metadata": {},
   "outputs": [],
   "source": [
    "# Replace all NaN (Not a Number) values with None\n",
    "df_final = df_final.replace({np.nan: None})"
   ]
  },
  {
   "cell_type": "code",
   "execution_count": 37,
   "id": "9a1c0e5f-bef8-4fea-bca6-ccda41bdde70",
   "metadata": {},
   "outputs": [],
   "source": [
    "df_final=df_final.to_csv(\"C:\\\\Users\\\\admin\\\\Desktop\\\\REDBUS_CSV\\\\df_redbus_list.csv\",index=False)"
   ]
  },
  {
   "cell_type": "code",
   "execution_count": 49,
   "id": "7e132ae0-cb34-4941-9a89-4af311c753ff",
   "metadata": {},
   "outputs": [],
   "source": [
    "df_final = pd.read_csv(\"df_redbus_list.csv\")"
   ]
  },
  {
   "cell_type": "code",
   "execution_count": null,
   "id": "8292fcaa-69f8-4c86-b3a2-6c38de3bd138",
   "metadata": {},
   "outputs": [],
   "source": []
  },
  {
   "cell_type": "code",
   "execution_count": 39,
   "id": "b45fc593-e344-4adb-a405-7cee04179d6c",
   "metadata": {},
   "outputs": [],
   "source": [
    "# Sql Connection\n",
    "db_connection=db.connect(\n",
    "\n",
    "    host= \"localhost\",\n",
    "    user=\"root\",\n",
    "    password=\"root\",\n",
    "    database=\"bus_routes\"\n",
    ")"
   ]
  },
  {
   "cell_type": "code",
   "execution_count": 41,
   "id": "f45a4c9f-20cf-42f4-98b8-8ead7085f12e",
   "metadata": {},
   "outputs": [
    {
     "data": {
      "text/plain": [
       "<mysql.connector.connection_cext.CMySQLConnection at 0x286c10273b0>"
      ]
     },
     "execution_count": 41,
     "metadata": {},
     "output_type": "execute_result"
    }
   ],
   "source": [
    "db_connection"
   ]
  },
  {
   "cell_type": "code",
   "execution_count": 43,
   "id": "94f3c990-ec5a-4e34-858f-c490fd788909",
   "metadata": {},
   "outputs": [],
   "source": [
    "curr = db_connection.cursor()"
   ]
  },
  {
   "cell_type": "code",
   "execution_count": 45,
   "id": "f5b1c3d4-93f1-4a05-a123-9a10100b6e85",
   "metadata": {},
   "outputs": [],
   "source": [
    "# SQL query to insert data into bus_details table\n",
    "\n",
    "insert_db ='''INSERT INTO bus_routes.bus_details(\n",
    "                    Route_name,\n",
    "                    Bus_name,\n",
    "                    Bus_type,\n",
    "                    Duration,\n",
    "                    Ratings,\n",
    "                    Seats_Available,\n",
    "                    Price,\n",
    "                    Departing_time,\n",
    "                    Reaching_Time,\n",
    "                    Route_link\n",
    "                    )\n",
    "              VALUES(%s, %s, %s, %s, %s, %s, %s, %s, %s, %s)'''"
   ]
  },
  {
   "cell_type": "code",
   "execution_count": 51,
   "id": "76c2840a-03a6-42e5-9d57-7dd8e40bea0c",
   "metadata": {},
   "outputs": [],
   "source": [
    "#final_data = df_final.values.tolist()"
   ]
  },
  {
   "cell_type": "code",
   "execution_count": 55,
   "id": "fe9df554-8af3-479b-99ea-567d9907e149",
   "metadata": {},
   "outputs": [
    {
     "ename": "DatabaseError",
     "evalue": "1265 (01000): Data truncated for column 'Seats_Available' at row 1",
     "output_type": "error",
     "traceback": [
      "\u001b[1;31m---------------------------------------------------------------------------\u001b[0m",
      "\u001b[1;31mMySQLInterfaceError\u001b[0m                       Traceback (most recent call last)",
      "File \u001b[1;32mE:\\anaconda\\Lib\\site-packages\\mysql\\connector\\connection_cext.py:697\u001b[0m, in \u001b[0;36mCMySQLConnection.cmd_query\u001b[1;34m(self, query, raw, buffered, raw_as_string)\u001b[0m\n\u001b[0;32m    696\u001b[0m         query \u001b[38;5;241m=\u001b[39m query\u001b[38;5;241m.\u001b[39mencode(\u001b[38;5;124m\"\u001b[39m\u001b[38;5;124mutf-8\u001b[39m\u001b[38;5;124m\"\u001b[39m)\n\u001b[1;32m--> 697\u001b[0m     \u001b[38;5;28mself\u001b[39m\u001b[38;5;241m.\u001b[39m_cmysql\u001b[38;5;241m.\u001b[39mquery(\n\u001b[0;32m    698\u001b[0m         query,\n\u001b[0;32m    699\u001b[0m         raw\u001b[38;5;241m=\u001b[39mraw,\n\u001b[0;32m    700\u001b[0m         buffered\u001b[38;5;241m=\u001b[39mbuffered,\n\u001b[0;32m    701\u001b[0m         raw_as_string\u001b[38;5;241m=\u001b[39mraw_as_string,\n\u001b[0;32m    702\u001b[0m         query_attrs\u001b[38;5;241m=\u001b[39m\u001b[38;5;28mself\u001b[39m\u001b[38;5;241m.\u001b[39mquery_attrs,\n\u001b[0;32m    703\u001b[0m     )\n\u001b[0;32m    704\u001b[0m \u001b[38;5;28;01mexcept\u001b[39;00m MySQLInterfaceError \u001b[38;5;28;01mas\u001b[39;00m err:\n",
      "\u001b[1;31mMySQLInterfaceError\u001b[0m: Data truncated for column 'Seats_Available' at row 1",
      "\nThe above exception was the direct cause of the following exception:\n",
      "\u001b[1;31mDatabaseError\u001b[0m                             Traceback (most recent call last)",
      "Cell \u001b[1;32mIn[55], line 1\u001b[0m\n\u001b[1;32m----> 1\u001b[0m curr\u001b[38;5;241m.\u001b[39mexecutemany(insert_db,final_data)\n",
      "File \u001b[1;32mE:\\anaconda\\Lib\\site-packages\\mysql\\connector\\cursor_cext.py:499\u001b[0m, in \u001b[0;36mCMySQLCursor.executemany\u001b[1;34m(self, operation, seq_params)\u001b[0m\n\u001b[0;32m    497\u001b[0m     \u001b[38;5;28;01mif\u001b[39;00m stmt \u001b[38;5;129;01mis\u001b[39;00m \u001b[38;5;129;01mnot\u001b[39;00m \u001b[38;5;28;01mNone\u001b[39;00m:\n\u001b[0;32m    498\u001b[0m         \u001b[38;5;28mself\u001b[39m\u001b[38;5;241m.\u001b[39m_executed \u001b[38;5;241m=\u001b[39m stmt\n\u001b[1;32m--> 499\u001b[0m         \u001b[38;5;28;01mreturn\u001b[39;00m \u001b[38;5;28mself\u001b[39m\u001b[38;5;241m.\u001b[39mexecute(stmt)\n\u001b[0;32m    501\u001b[0m rowcnt \u001b[38;5;241m=\u001b[39m \u001b[38;5;241m0\u001b[39m\n\u001b[0;32m    502\u001b[0m \u001b[38;5;28;01mtry\u001b[39;00m:\n\u001b[0;32m    503\u001b[0m     \u001b[38;5;66;03m# When processing read ops (e.g., SELECT), rowcnt is updated\u001b[39;00m\n\u001b[0;32m    504\u001b[0m     \u001b[38;5;66;03m# based on self._rowcount. For write ops (e.g., INSERT) is\u001b[39;00m\n\u001b[0;32m    505\u001b[0m     \u001b[38;5;66;03m# updated based on self._affected_rows.\u001b[39;00m\n\u001b[0;32m    506\u001b[0m     \u001b[38;5;66;03m# The variable self._description is None for write ops, that's\u001b[39;00m\n\u001b[0;32m    507\u001b[0m     \u001b[38;5;66;03m# why we use it as indicator for updating rowcnt.\u001b[39;00m\n",
      "File \u001b[1;32mE:\\anaconda\\Lib\\site-packages\\mysql\\connector\\cursor_cext.py:372\u001b[0m, in \u001b[0;36mCMySQLCursor.execute\u001b[1;34m(self, operation, params, multi)\u001b[0m\n\u001b[0;32m    367\u001b[0m             \u001b[38;5;28;01mraise\u001b[39;00m ProgrammingError(\n\u001b[0;32m    368\u001b[0m                 \u001b[38;5;124m\"\u001b[39m\u001b[38;5;124mNot all parameters were used in the SQL statement\u001b[39m\u001b[38;5;124m\"\u001b[39m\n\u001b[0;32m    369\u001b[0m             )\n\u001b[0;32m    371\u001b[0m \u001b[38;5;28;01mtry\u001b[39;00m:\n\u001b[1;32m--> 372\u001b[0m     result \u001b[38;5;241m=\u001b[39m \u001b[38;5;28mself\u001b[39m\u001b[38;5;241m.\u001b[39m_cnx\u001b[38;5;241m.\u001b[39mcmd_query(\n\u001b[0;32m    373\u001b[0m         stmt,\n\u001b[0;32m    374\u001b[0m         raw\u001b[38;5;241m=\u001b[39m\u001b[38;5;28mself\u001b[39m\u001b[38;5;241m.\u001b[39m_raw,\n\u001b[0;32m    375\u001b[0m         buffered\u001b[38;5;241m=\u001b[39m\u001b[38;5;28mself\u001b[39m\u001b[38;5;241m.\u001b[39m_buffered,\n\u001b[0;32m    376\u001b[0m         raw_as_string\u001b[38;5;241m=\u001b[39m\u001b[38;5;28mself\u001b[39m\u001b[38;5;241m.\u001b[39m_raw_as_string,\n\u001b[0;32m    377\u001b[0m     )\n\u001b[0;32m    378\u001b[0m \u001b[38;5;28;01mexcept\u001b[39;00m MySQLInterfaceError \u001b[38;5;28;01mas\u001b[39;00m err:\n\u001b[0;32m    379\u001b[0m     \u001b[38;5;28;01mraise\u001b[39;00m get_mysql_exception(\n\u001b[0;32m    380\u001b[0m         msg\u001b[38;5;241m=\u001b[39merr\u001b[38;5;241m.\u001b[39mmsg, errno\u001b[38;5;241m=\u001b[39merr\u001b[38;5;241m.\u001b[39merrno, sqlstate\u001b[38;5;241m=\u001b[39merr\u001b[38;5;241m.\u001b[39msqlstate\n\u001b[0;32m    381\u001b[0m     ) \u001b[38;5;28;01mfrom\u001b[39;00m \u001b[38;5;21;01merr\u001b[39;00m\n",
      "File \u001b[1;32mE:\\anaconda\\Lib\\site-packages\\mysql\\connector\\opentelemetry\\context_propagation.py:102\u001b[0m, in \u001b[0;36mwith_context_propagation.<locals>.wrapper\u001b[1;34m(cnx, *args, **kwargs)\u001b[0m\n\u001b[0;32m    100\u001b[0m \u001b[38;5;250m\u001b[39m\u001b[38;5;124;03m\"\"\"Context propagation decorator.\"\"\"\u001b[39;00m\n\u001b[0;32m    101\u001b[0m \u001b[38;5;28;01mif\u001b[39;00m \u001b[38;5;129;01mnot\u001b[39;00m OTEL_ENABLED \u001b[38;5;129;01mor\u001b[39;00m \u001b[38;5;129;01mnot\u001b[39;00m cnx\u001b[38;5;241m.\u001b[39motel_context_propagation:\n\u001b[1;32m--> 102\u001b[0m     \u001b[38;5;28;01mreturn\u001b[39;00m method(cnx, \u001b[38;5;241m*\u001b[39margs, \u001b[38;5;241m*\u001b[39m\u001b[38;5;241m*\u001b[39mkwargs)\n\u001b[0;32m    104\u001b[0m current_span \u001b[38;5;241m=\u001b[39m trace\u001b[38;5;241m.\u001b[39mget_current_span()\n\u001b[0;32m    105\u001b[0m tp_header \u001b[38;5;241m=\u001b[39m \u001b[38;5;28;01mNone\u001b[39;00m\n",
      "File \u001b[1;32mE:\\anaconda\\Lib\\site-packages\\mysql\\connector\\connection_cext.py:705\u001b[0m, in \u001b[0;36mCMySQLConnection.cmd_query\u001b[1;34m(self, query, raw, buffered, raw_as_string)\u001b[0m\n\u001b[0;32m    697\u001b[0m     \u001b[38;5;28mself\u001b[39m\u001b[38;5;241m.\u001b[39m_cmysql\u001b[38;5;241m.\u001b[39mquery(\n\u001b[0;32m    698\u001b[0m         query,\n\u001b[0;32m    699\u001b[0m         raw\u001b[38;5;241m=\u001b[39mraw,\n\u001b[1;32m   (...)\u001b[0m\n\u001b[0;32m    702\u001b[0m         query_attrs\u001b[38;5;241m=\u001b[39m\u001b[38;5;28mself\u001b[39m\u001b[38;5;241m.\u001b[39mquery_attrs,\n\u001b[0;32m    703\u001b[0m     )\n\u001b[0;32m    704\u001b[0m \u001b[38;5;28;01mexcept\u001b[39;00m MySQLInterfaceError \u001b[38;5;28;01mas\u001b[39;00m err:\n\u001b[1;32m--> 705\u001b[0m     \u001b[38;5;28;01mraise\u001b[39;00m get_mysql_exception(\n\u001b[0;32m    706\u001b[0m         err\u001b[38;5;241m.\u001b[39merrno, msg\u001b[38;5;241m=\u001b[39merr\u001b[38;5;241m.\u001b[39mmsg, sqlstate\u001b[38;5;241m=\u001b[39merr\u001b[38;5;241m.\u001b[39msqlstate\n\u001b[0;32m    707\u001b[0m     ) \u001b[38;5;28;01mfrom\u001b[39;00m \u001b[38;5;21;01merr\u001b[39;00m\n\u001b[0;32m    708\u001b[0m \u001b[38;5;28;01mexcept\u001b[39;00m \u001b[38;5;167;01mAttributeError\u001b[39;00m \u001b[38;5;28;01mas\u001b[39;00m err:\n\u001b[0;32m    709\u001b[0m     addr \u001b[38;5;241m=\u001b[39m (\n\u001b[0;32m    710\u001b[0m         \u001b[38;5;28mself\u001b[39m\u001b[38;5;241m.\u001b[39m_unix_socket \u001b[38;5;28;01mif\u001b[39;00m \u001b[38;5;28mself\u001b[39m\u001b[38;5;241m.\u001b[39m_unix_socket \u001b[38;5;28;01melse\u001b[39;00m \u001b[38;5;124mf\u001b[39m\u001b[38;5;124m\"\u001b[39m\u001b[38;5;132;01m{\u001b[39;00m\u001b[38;5;28mself\u001b[39m\u001b[38;5;241m.\u001b[39m_host\u001b[38;5;132;01m}\u001b[39;00m\u001b[38;5;124m:\u001b[39m\u001b[38;5;132;01m{\u001b[39;00m\u001b[38;5;28mself\u001b[39m\u001b[38;5;241m.\u001b[39m_port\u001b[38;5;132;01m}\u001b[39;00m\u001b[38;5;124m\"\u001b[39m\n\u001b[0;32m    711\u001b[0m     )\n",
      "\u001b[1;31mDatabaseError\u001b[0m: 1265 (01000): Data truncated for column 'Seats_Available' at row 1"
     ]
    }
   ],
   "source": [
    "#curr.executemany(insert_db,final_data)"
   ]
  },
  {
   "cell_type": "code",
   "execution_count": 59,
   "id": "d5efc2cd-04a7-42a2-8461-bac36c1ce11c",
   "metadata": {},
   "outputs": [],
   "source": [
    "# Convert Seats_Available to numeric\n",
    "df_final[\"Seats_Available\"] = df_final[\"Seats_Available\"].str.split().str[0]\n"
   ]
  },
  {
   "cell_type": "code",
   "execution_count": 61,
   "id": "2690e1a2-6e55-4363-8639-49f54804e1f6",
   "metadata": {},
   "outputs": [],
   "source": [
    "df_final[\"Seats_Available\"]=df_final[\"Seats_Available\"].astype(int)\n"
   ]
  },
  {
   "cell_type": "code",
   "execution_count": 65,
   "id": "b8104af2-f237-4351-9785-ca50934ac318",
   "metadata": {},
   "outputs": [],
   "source": [
    "df_final=df_final.to_csv(\"C:\\\\Users\\\\admin\\\\Desktop\\\\REDBUS_CSV\\\\df_redbus.csv\",index=False)"
   ]
  },
  {
   "cell_type": "code",
   "execution_count": 67,
   "id": "9ddc5df2-0a47-45de-b334-884414d7c8ed",
   "metadata": {},
   "outputs": [],
   "source": [
    "df_final = pd.read_csv(\"df_redbus.csv\")"
   ]
  },
  {
   "cell_type": "code",
   "execution_count": 69,
   "id": "1b6ef24a-7ab7-434d-b643-cdf8f7f9cdb3",
   "metadata": {},
   "outputs": [],
   "source": [
    "final_data = df_final.values.tolist()"
   ]
  },
  {
   "cell_type": "code",
   "execution_count": 71,
   "id": "3e14b3bb-baad-4518-9a49-78cc156c6dba",
   "metadata": {},
   "outputs": [],
   "source": [
    "curr.executemany(insert_db,final_data)"
   ]
  },
  {
   "cell_type": "code",
   "execution_count": 73,
   "id": "114b5c89-8ae4-43c9-93c5-edbd37c80f6a",
   "metadata": {},
   "outputs": [],
   "source": [
    "db_connection.commit()"
   ]
  },
  {
   "cell_type": "code",
   "execution_count": 77,
   "id": "746193e3-7a93-4031-86ba-a85ba8bfba56",
   "metadata": {},
   "outputs": [
    {
     "name": "stdout",
     "output_type": "stream",
     "text": [
      "successfully\n"
     ]
    }
   ],
   "source": [
    "print(\"successfully\")\n"
   ]
  },
  {
   "cell_type": "code",
   "execution_count": null,
   "id": "339a4b77-a8a1-44c7-946e-682fecf99b63",
   "metadata": {},
   "outputs": [],
   "source": []
  }
 ],
 "metadata": {
  "kernelspec": {
   "display_name": "Python 3 (ipykernel)",
   "language": "python",
   "name": "python3"
  },
  "language_info": {
   "codemirror_mode": {
    "name": "ipython",
    "version": 3
   },
   "file_extension": ".py",
   "mimetype": "text/x-python",
   "name": "python",
   "nbconvert_exporter": "python",
   "pygments_lexer": "ipython3",
   "version": "3.12.4"
  }
 },
 "nbformat": 4,
 "nbformat_minor": 5
}
